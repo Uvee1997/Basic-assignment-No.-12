{
 "cells": [
  {
   "cell_type": "markdown",
   "id": "980ce375",
   "metadata": {},
   "source": [
    "1) In what modes should the PdfFileReader() and PdfFileWriter() File objects will be opened ?\n",
    "\n",
    ":- PdfFileReader() opens in read binary mode & PdfFileWriter() opens in write binary mode."
   ]
  },
  {
   "cell_type": "markdown",
   "id": "1115255a",
   "metadata": {},
   "source": [
    "2) From a PdfFileReader object, how do you get a Page object for page 5 ?\n",
    "\n",
    ":- By calling getPage() method on PdfFileReader object & passing it the page of the page you are interested in "
   ]
  },
  {
   "cell_type": "markdown",
   "id": "feaefda1",
   "metadata": {},
   "source": [
    "3) What PdfFileReader variable stores the number of pages in the PDF document ?\n",
    "\n",
    ":- It stores in numPages attribute"
   ]
  },
  {
   "cell_type": "markdown",
   "id": "b57b3dd7",
   "metadata": {},
   "source": [
    "4) If a PdfFileReader object’s PDF is encrypted with the password swordfish, what must you do\n",
    "   before you can obtain Page objects from it ?\n",
    "\n",
    ":- Before we obtain the page object, the PDF has to be decrypted by calling decrypt('swordfish')     "
   ]
  },
  {
   "cell_type": "markdown",
   "id": "122e1b8a",
   "metadata": {},
   "source": [
    "5) What methods do you use to rotate a page ?\n",
    "\n",
    ":- Open Pdf\n",
    "   Select organised page tool \n",
    "   organized pages or select organize pages\n",
    "   choose page to rotate\n",
    "   rotate page"
   ]
  },
  {
   "cell_type": "markdown",
   "id": "c76fc765",
   "metadata": {},
   "source": [
    "6) What is the difference between Run object & Paragraph object ?\n",
    "\n",
    ":- Run object = Runs are contiguous group characters within the paragraph with same style\n",
    "   Paragraph object = A documents contain multiple paragraph. Paragraph starts with new line & contains multiple run\n",
    "                      The documents object contains list of paragraph object for the paragraph in documents.  "
   ]
  },
  {
   "cell_type": "code",
   "execution_count": null,
   "id": "0b31e5d2",
   "metadata": {},
   "outputs": [],
   "source": [
    "7) How do you obtain a list of Paragraph objects for a Document object that’s stored in a variable named doc ?\n",
    "\n",
    ":- import docx\n",
    "   doc = docx.Documents('abc.docx')\n",
    "   doc.paragraph"
   ]
  },
  {
   "cell_type": "code",
   "execution_count": null,
   "id": "d99b81b6",
   "metadata": {},
   "outputs": [],
   "source": [
    "8) What type of object has bold, underline, italic, strike, and outline variables ?\n",
    "\n",
    ":- Run object"
   ]
  },
  {
   "cell_type": "markdown",
   "id": "be0df01d",
   "metadata": {},
   "source": [
    "9) What is the difference between False, True, and None for the bold variable ?\n",
    "\n",
    ":- True (the attribute is always enabled, no matter what other styles are applied to the run),\n",
    "   False (the attribute is always disabled),\n",
    "   None (defaults to whatever the run’s style is set to)\n",
    "   \n",
    "   True always makes run object bolded, False always makes run object not bolded. None will makes run object just use \n",
    "   style bold setting\n",
    "\n"
   ]
  },
  {
   "cell_type": "markdown",
   "id": "6c11288f",
   "metadata": {},
   "source": [
    "10) How do you create a Document object for a new Word document ?\n",
    "\n",
    ":- By calling docx.Document() function"
   ]
  },
  {
   "cell_type": "code",
   "execution_count": null,
   "id": "5db14747",
   "metadata": {},
   "outputs": [],
   "source": [
    "11) How do you add a paragraph with the text 'Hello, there!' to a Document object stored in a variable named doc ?\n",
    "\n",
    ":- import docx\n",
    "   doc = docx.document()\n",
    "   doc.add_paragraph('Hello, there!')\n",
    "   doc.save('hellothere.docx') "
   ]
  },
  {
   "cell_type": "markdown",
   "id": "4ee73f57",
   "metadata": {},
   "source": [
    "12) What integers represent the levels of headings available in Word documents ?\n",
    "\n",
    ":- integer from 0 to 4\n",
    "   The arguments to add_heading() are a string of the heading text and an integer from 0 to 4. \n",
    "   The integer 0 makes the heading the Title style, which is used for the top of the document. \n",
    "   Integers 1 to 4 are for various heading levels, with 1 being the main heading and 4 the lowest subheading\n",
    " "
   ]
  }
 ],
 "metadata": {
  "kernelspec": {
   "display_name": "Python 3 (ipykernel)",
   "language": "python",
   "name": "python3"
  },
  "language_info": {
   "codemirror_mode": {
    "name": "ipython",
    "version": 3
   },
   "file_extension": ".py",
   "mimetype": "text/x-python",
   "name": "python",
   "nbconvert_exporter": "python",
   "pygments_lexer": "ipython3",
   "version": "3.9.7"
  }
 },
 "nbformat": 4,
 "nbformat_minor": 5
}
